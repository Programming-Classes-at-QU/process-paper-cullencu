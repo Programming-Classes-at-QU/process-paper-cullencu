{
 "cells": [
  {
   "cell_type": "markdown",
   "metadata": {},
   "source": [
    "# Enter Name here: "
   ]
  },
  {
   "cell_type": "markdown",
   "metadata": {},
   "source": [
    "# Assignment \n",
    "\n",
    "This process paper is a time for you to discuss the process you took personally to get to the final project. Why did you choose the data you chose? How well did it work for your question? Did you need (or want) to change your question as you evaluated your data more? What provided you with particular difficulties or struggles? How did you overcome those challenges? What parts were the easy parts? \n",
    "\n",
    "This paper should be a minimum of 300 words. It should be turned in via a .ipynb file, so you can demonstrate some of the issues with code, or you can use it to show things you thought were particularly interesting, but might not have found their way into the final project.\n",
    "\n",
    "Think of this as a reflection on the process you went through to get to the final project. You should be familiar with reflections at this point in your Queens career.\n",
    "\n",
    "Begin writing in the cell below."
   ]
  },
  {
   "cell_type": "markdown",
   "metadata": {},
   "source": []
  }
 ],
 "metadata": {
  "language_info": {
   "name": "python"
  }

 "nbformat": 4,
 "nbformat_minor": 2
}
# Rugby Performance Analysis Project Reflection

Throughout the process of completing my final project, my primary focus was exploring the relationship between kicking accuracy and meters gained among elite international rugby players. I simulated a dataset specifically tailored to my research question, encompassing performance data from 25 top rugby players across various positions. This dataset allowed for a comprehensive examination through statistical methods such as t-tests, ANOVA, and correlation tests, as well as supporting detailed visualizations.

Initially, my research question was broadly oriented around key performance indicators in rugby. However, preliminary exploration of the data prompted me to narrow my focus more specifically: investigating whether kicking accuracy significantly influences meters gained. Refining this question allowed deeper insights into how specific performance metrics differ across player roles.

One significant challenge was accurately simulating realistic rugby performance data. Creating data reflective of real-world variability required multiple iterations and considerable adjustments. I overcame this by conducting thorough research into typical rugby statistics and carefully refining simulation parameters to mirror actual player performance more closely.

Once data simulation and cleaning were complete, executing statistical analyses was relatively straightforward. The t-test highlighted significant differences in meters gained between forwards and backs. ANOVA analysis helped reveal differences in tries scored across positions. Correlation analysis provided clear insights into the relationship between kicking accuracy and meters gained, directly addressing my refined research question.

Visualizations proved to be the most intuitive and rewarding aspect of the analysis. Tools such as scatter plots, bar charts, and box plots clearly illustrated data patterns and enhanced the interpretability of statistical results, making complex relationships easily understandable.

Overall, this analytical journey highlighted the importance of clearly defined research questions, meticulous data preparation, and effective visual communication. It significantly improved my practical experience with statistical analyses and deepened my understanding of sports analytics.


