{
 "cells": [
  {
   "cell_type": "markdown",
   "metadata": {},
   "source": [
    "# Enter Name here: "
   ]
  },
  {
   "cell_type": "markdown",
   "metadata": {},
   "source": [
    "# Assignment \n",
    "\n",
    "This process paper is a time for you to discuss the process you took personally to get to the final project. Why did you choose the data you chose? How well did it work for your question? Did you need (or want) to change your question as you evaluated your data more? What provided you with particular difficulties or struggles? How did you overcome those challenges? What parts were the easy parts? \n",
    "\n",
    "This paper should be a minimum of 300 words. It should be turned in via a .ipynb file, so you can demonstrate some of the issues with code, or you can use it to show things you thought were particularly interesting, but might not have found their way into the final project.\n",
    "\n",
    "Think of this as a reflection on the process you went through to get to the final project. You should be familiar with reflections at this point in your Queens career.\n",
    "\n",
    "Begin writing in the cell below."
   ]
  },
  {
   "cell_type": "markdown",
   "metadata": {},
   "source": []
  }
 ],
 "metadata": {
  "language_info": {
   "name": "python"
  }

## Reflection on Rugby Performance Analysis Project

Throughout the process of completing my final project, my primary focus was to explore the relationship between kicking accuracy and meters gained among elite international rugby players. I chose to simulate a dataset specifically tailored to my research question, encompassing data from 25 top rugby players across various positions. This dataset was selected because it allowed comprehensive examination through statistical analyses such as t-tests, ANOVA, and correlation tests, and supported detailed visualizations.

Initially, my research question aimed broadly to identify key performance indicators in rugby. However, after preliminary data exploration, I narrowed the focus to investigate a more specific relationship—whether kicking accuracy significantly influenced the meters gained by players. This refinement was crucial as it allowed deeper insights into specific performance metrics relevant to different player roles.

One significant challenge encountered during this project was accurately simulating realistic rugby performance data. It required multiple iterations to ensure the data realistically reflected variability in rugby players’ performances. I overcame this challenge by thoroughly researching typical performance metrics, consulting real-world statistics, and adjusting the simulation parameters accordingly.

Executing statistical tests was straightforward after proper data simulation and cleaning. The t-test efficiently highlighted differences in meters gained between forwards and backs, while ANOVA revealed positional variations in tries scored. The correlation test provided clarity on how kicking accuracy related to meters gained, which aligned well with my refined research question.

Visualization was the most intuitive and engaging part of this process. Visual tools like scatter plots, bar charts, and box plots effectively demonstrated the data patterns and statistical results, greatly enhancing the project's clarity and interpretability.

Overall, this analytical journey underscored the importance of focused research questions, accurate data simulation, and clear visualization techniques. It provided valuable practical experience in statistical analyses, significantly enriching my understanding of sports performance analytics.

 },
 "nbformat": 4,
 "nbformat_minor": 2
}
